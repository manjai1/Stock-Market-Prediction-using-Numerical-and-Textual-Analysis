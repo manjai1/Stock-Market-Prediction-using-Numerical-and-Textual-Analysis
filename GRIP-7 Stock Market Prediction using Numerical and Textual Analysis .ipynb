{
 "cells": [
  {
   "cell_type": "markdown",
   "id": "ea70e4f3",
   "metadata": {},
   "source": [
    "# Manasvi Jaipurkar"
   ]
  },
  {
   "cell_type": "markdown",
   "id": "c205ad3a",
   "metadata": {},
   "source": [
    "# THE SPARK FOUNDATION"
   ]
  },
  {
   "cell_type": "markdown",
   "id": "3a859232",
   "metadata": {},
   "source": [
    "# TASK-7 Stock Market Prediction using Numerical and Textual Analysis\n",
    "(Level - Advanced)\n",
    "\n",
    "Create a hybrid model for stock price/performance prediction using numerical analysis of historical stock prices, and sentimental analysis of news headlines.\n",
    "Stock to analyze and predict SENSEX (S&P BSE SENSEX).\n",
    "Use either R or Python, or both for separate analysis and then combine the findings to create a hybrid model."
   ]
  },
  {
   "cell_type": "code",
   "execution_count": null,
   "id": "3ada2074",
   "metadata": {},
   "outputs": [],
   "source": []
  },
  {
   "cell_type": "code",
   "execution_count": 83,
   "id": "0b1c2499",
   "metadata": {},
   "outputs": [
    {
     "name": "stdout",
     "output_type": "stream",
     "text": [
      "Requirement already satisfied: yfinance in c:\\users\\manasvi\\anaconda3\\lib\\site-packages (0.1.74)\n",
      "Requirement already satisfied: multitasking>=0.0.7 in c:\\users\\manasvi\\anaconda3\\lib\\site-packages (from yfinance) (0.0.10)\n",
      "Requirement already satisfied: requests>=2.26 in c:\\users\\manasvi\\anaconda3\\lib\\site-packages (from yfinance) (2.26.0)\n",
      "Requirement already satisfied: pandas>=0.24.0 in c:\\users\\manasvi\\anaconda3\\lib\\site-packages (from yfinance) (1.4.3)\n",
      "Requirement already satisfied: numpy>=1.15 in c:\\users\\manasvi\\appdata\\roaming\\python\\python39\\site-packages (from yfinance) (1.23.0)\n",
      "Requirement already satisfied: lxml>=4.5.1 in c:\\users\\manasvi\\anaconda3\\lib\\site-packages (from yfinance) (4.6.3)\n",
      "Requirement already satisfied: python-dateutil>=2.8.1 in c:\\users\\manasvi\\appdata\\roaming\\python\\python39\\site-packages (from pandas>=0.24.0->yfinance) (2.8.2)\n",
      "Requirement already satisfied: pytz>=2020.1 in c:\\users\\manasvi\\anaconda3\\lib\\site-packages (from pandas>=0.24.0->yfinance) (2021.3)\n",
      "Requirement already satisfied: six>=1.5 in c:\\users\\manasvi\\appdata\\roaming\\python\\python39\\site-packages (from python-dateutil>=2.8.1->pandas>=0.24.0->yfinance) (1.16.0)\n",
      "Requirement already satisfied: urllib3<1.27,>=1.21.1 in c:\\users\\manasvi\\anaconda3\\lib\\site-packages (from requests>=2.26->yfinance) (1.26.7)\n",
      "Requirement already satisfied: certifi>=2017.4.17 in c:\\users\\manasvi\\anaconda3\\lib\\site-packages (from requests>=2.26->yfinance) (2021.10.8)\n",
      "Requirement already satisfied: idna<4,>=2.5 in c:\\users\\manasvi\\anaconda3\\lib\\site-packages (from requests>=2.26->yfinance) (3.2)\n",
      "Requirement already satisfied: charset-normalizer~=2.0.0 in c:\\users\\manasvi\\anaconda3\\lib\\site-packages (from requests>=2.26->yfinance) (2.0.4)\n",
      "Note: you may need to restart the kernel to use updated packages.\n"
     ]
    },
    {
     "name": "stderr",
     "output_type": "stream",
     "text": [
      "WARNING: Ignoring invalid distribution -illow (c:\\users\\manasvi\\anaconda3\\lib\\site-packages)\n",
      "WARNING: Ignoring invalid distribution -atplotlib (c:\\users\\manasvi\\anaconda3\\lib\\site-packages)\n",
      "WARNING: Ignoring invalid distribution -illow (c:\\users\\manasvi\\anaconda3\\lib\\site-packages)\n",
      "WARNING: Ignoring invalid distribution -atplotlib (c:\\users\\manasvi\\anaconda3\\lib\\site-packages)\n",
      "WARNING: Ignoring invalid distribution -illow (c:\\users\\manasvi\\anaconda3\\lib\\site-packages)\n",
      "WARNING: Ignoring invalid distribution -atplotlib (c:\\users\\manasvi\\anaconda3\\lib\\site-packages)\n",
      "WARNING: Ignoring invalid distribution -illow (c:\\users\\manasvi\\anaconda3\\lib\\site-packages)\n",
      "WARNING: Ignoring invalid distribution -atplotlib (c:\\users\\manasvi\\anaconda3\\lib\\site-packages)\n",
      "WARNING: Ignoring invalid distribution -illow (c:\\users\\manasvi\\anaconda3\\lib\\site-packages)\n",
      "WARNING: Ignoring invalid distribution -atplotlib (c:\\users\\manasvi\\anaconda3\\lib\\site-packages)\n",
      "WARNING: Ignoring invalid distribution -illow (c:\\users\\manasvi\\anaconda3\\lib\\site-packages)\n",
      "WARNING: Ignoring invalid distribution -atplotlib (c:\\users\\manasvi\\anaconda3\\lib\\site-packages)\n"
     ]
    }
   ],
   "source": [
    "pip install yfinance --upgrade --no-cache-dir"
   ]
  },
  {
   "cell_type": "markdown",
   "id": "d5bbc92a",
   "metadata": {},
   "source": [
    "# import libraries"
   ]
  },
  {
   "cell_type": "code",
   "execution_count": 3,
   "id": "7a3731c6",
   "metadata": {},
   "outputs": [
    {
     "name": "stderr",
     "output_type": "stream",
     "text": [
      "C:\\Users\\Manasvi\\anaconda3\\lib\\site-packages\\scipy\\__init__.py:146: UserWarning: A NumPy version >=1.16.5 and <1.23.0 is required for this version of SciPy (detected version 1.23.0\n",
      "  warnings.warn(f\"A NumPy version >={np_minversion} and <{np_maxversion}\"\n",
      "C:\\Users\\Manasvi\\anaconda3\\lib\\site-packages\\statsmodels\\tsa\\base\\tsa_model.py:7: FutureWarning: pandas.Int64Index is deprecated and will be removed from pandas in a future version. Use pandas.Index with the appropriate dtype instead.\n",
      "  from pandas import (to_datetime, Int64Index, DatetimeIndex, Period,\n",
      "C:\\Users\\Manasvi\\anaconda3\\lib\\site-packages\\statsmodels\\tsa\\base\\tsa_model.py:7: FutureWarning: pandas.Float64Index is deprecated and will be removed from pandas in a future version. Use pandas.Index with the appropriate dtype instead.\n",
      "  from pandas import (to_datetime, Int64Index, DatetimeIndex, Period,\n"
     ]
    }
   ],
   "source": [
    "#import libraries \n",
    "import numpy as np\n",
    "import pandas as pd\n",
    "\n",
    "import matplotlib.pyplot as plt\n",
    "%matplotlib inline\n",
    "\n",
    "  #Altair is a declarative statistical visualization library for Python\n",
    "\n",
    "import statsmodels.api as sm \n",
    "\n",
    "from sklearn.model_selection import ShuffleSplit\n",
    "from sklearn.metrics import mean_absolute_error\n",
    "from sklearn.metrics import mean_squared_error\n",
    "from sklearn.metrics import r2_score\n",
    "from sklearn.multioutput import RegressorChain\n",
    "from sklearn.ensemble import RandomForestRegressor"
   ]
  },
  {
   "cell_type": "code",
   "execution_count": 4,
   "id": "07077cbd",
   "metadata": {},
   "outputs": [],
   "source": [
    "#ignoring the warnings\n",
    "import warnings\n",
    "warnings.filterwarnings('ignore')"
   ]
  },
  {
   "cell_type": "code",
   "execution_count": 5,
   "id": "46550a20",
   "metadata": {},
   "outputs": [
    {
     "name": "stdout",
     "output_type": "stream",
     "text": [
      "[*********************100%***********************]  1 of 1 completed\n",
      "[*********************100%***********************]  1 of 1 completed\n"
     ]
    }
   ],
   "source": [
    "import yfinance as yf\n",
    "bse_data = yf.download('^BSESN', start='2015-01-01', end='2020-06-30')\n",
    "#since our Textual Analysis dataset containing news from Times of India News Headlines is only till 30th June 2020. \n",
    "#So we will assume today is 29th June 2020 and tomorrow is 30th June 2020. And we have to predict the stock price ((high+low+close)/3) and closing price of BSE index \n",
    "#for tomorrow 30th June 2020.\n",
    "unseenbse_data = yf.download('^BSESN', start='2020-06-30', end='2020-07-01')"
   ]
  },
  {
   "cell_type": "code",
   "execution_count": 6,
   "id": "58e3f822",
   "metadata": {},
   "outputs": [
    {
     "data": {
      "text/plain": [
       "Index(['Open', 'High', 'Low', 'Close', 'Adj Close', 'Volume'], dtype='object')"
      ]
     },
     "execution_count": 6,
     "metadata": {},
     "output_type": "execute_result"
    }
   ],
   "source": [
    "bse_data.columns\n",
    "\n"
   ]
  },
  {
   "cell_type": "code",
   "execution_count": 7,
   "id": "389c87ed",
   "metadata": {},
   "outputs": [
    {
     "data": {
      "text/plain": [
       "Index(['Open', 'High', 'Low', 'Close', 'Adj Close', 'Volume'], dtype='object')"
      ]
     },
     "execution_count": 7,
     "metadata": {},
     "output_type": "execute_result"
    }
   ],
   "source": [
    "unseenbse_data.columns"
   ]
  },
  {
   "cell_type": "code",
   "execution_count": 9,
   "id": "3a87b518",
   "metadata": {},
   "outputs": [],
   "source": [
    "bse_data.rename(columns={'Open': 'open', 'High': 'high', 'Low': 'low', 'Close': 'close', 'Adj Close': 'adjclose', 'Volume': 'volume'}, inplace = True)\n",
    "unseenbse_data.rename(columns={'Open': 'open', 'High': 'high', 'Low': 'low', 'Close': 'close', 'Adj Close': 'adjclose', 'Volume': 'volume'}, inplace = True)"
   ]
  },
  {
   "cell_type": "code",
   "execution_count": 10,
   "id": "8e3c4917",
   "metadata": {},
   "outputs": [
    {
     "name": "stdout",
     "output_type": "stream",
     "text": [
      "<class 'pandas.core.frame.DataFrame'>\n",
      "DatetimeIndex: 1345 entries, 2015-01-02 to 2020-06-29\n",
      "Data columns (total 6 columns):\n",
      " #   Column    Non-Null Count  Dtype  \n",
      "---  ------    --------------  -----  \n",
      " 0   open      1345 non-null   float64\n",
      " 1   high      1345 non-null   float64\n",
      " 2   low       1345 non-null   float64\n",
      " 3   close     1345 non-null   float64\n",
      " 4   adjclose  1345 non-null   float64\n",
      " 5   volume    1345 non-null   int64  \n",
      "dtypes: float64(5), int64(1)\n",
      "memory usage: 73.6 KB\n"
     ]
    }
   ],
   "source": [
    "bse_data.info()"
   ]
  },
  {
   "cell_type": "code",
   "execution_count": 11,
   "id": "d7adb2d4",
   "metadata": {},
   "outputs": [
    {
     "name": "stdout",
     "output_type": "stream",
     "text": [
      "<class 'pandas.core.frame.DataFrame'>\n",
      "DatetimeIndex: 1 entries, 2020-06-30 to 2020-06-30\n",
      "Data columns (total 6 columns):\n",
      " #   Column    Non-Null Count  Dtype  \n",
      "---  ------    --------------  -----  \n",
      " 0   open      1 non-null      float64\n",
      " 1   high      1 non-null      float64\n",
      " 2   low       1 non-null      float64\n",
      " 3   close     1 non-null      float64\n",
      " 4   adjclose  1 non-null      float64\n",
      " 5   volume    1 non-null      int64  \n",
      "dtypes: float64(5), int64(1)\n",
      "memory usage: 56.0 bytes\n"
     ]
    }
   ],
   "source": [
    "unseenbse_data.info()"
   ]
  },
  {
   "cell_type": "code",
   "execution_count": 12,
   "id": "606aac93",
   "metadata": {},
   "outputs": [
    {
     "data": {
      "text/html": [
       "<div>\n",
       "<style scoped>\n",
       "    .dataframe tbody tr th:only-of-type {\n",
       "        vertical-align: middle;\n",
       "    }\n",
       "\n",
       "    .dataframe tbody tr th {\n",
       "        vertical-align: top;\n",
       "    }\n",
       "\n",
       "    .dataframe thead th {\n",
       "        text-align: right;\n",
       "    }\n",
       "</style>\n",
       "<table border=\"1\" class=\"dataframe\">\n",
       "  <thead>\n",
       "    <tr style=\"text-align: right;\">\n",
       "      <th></th>\n",
       "      <th>open</th>\n",
       "      <th>high</th>\n",
       "      <th>low</th>\n",
       "      <th>close</th>\n",
       "      <th>adjclose</th>\n",
       "      <th>volume</th>\n",
       "    </tr>\n",
       "    <tr>\n",
       "      <th>Date</th>\n",
       "      <th></th>\n",
       "      <th></th>\n",
       "      <th></th>\n",
       "      <th></th>\n",
       "      <th></th>\n",
       "      <th></th>\n",
       "    </tr>\n",
       "  </thead>\n",
       "  <tbody>\n",
       "    <tr>\n",
       "      <th>2015-01-02</th>\n",
       "      <td>27521.279297</td>\n",
       "      <td>27937.470703</td>\n",
       "      <td>27519.259766</td>\n",
       "      <td>27887.900391</td>\n",
       "      <td>27887.900391</td>\n",
       "      <td>7400</td>\n",
       "    </tr>\n",
       "    <tr>\n",
       "      <th>2015-01-05</th>\n",
       "      <td>27978.429688</td>\n",
       "      <td>28064.490234</td>\n",
       "      <td>27786.849609</td>\n",
       "      <td>27842.320312</td>\n",
       "      <td>27842.320312</td>\n",
       "      <td>9200</td>\n",
       "    </tr>\n",
       "    <tr>\n",
       "      <th>2015-01-06</th>\n",
       "      <td>27694.230469</td>\n",
       "      <td>27698.929688</td>\n",
       "      <td>26937.060547</td>\n",
       "      <td>26987.460938</td>\n",
       "      <td>26987.460938</td>\n",
       "      <td>14100</td>\n",
       "    </tr>\n",
       "    <tr>\n",
       "      <th>2015-01-07</th>\n",
       "      <td>26983.429688</td>\n",
       "      <td>27051.599609</td>\n",
       "      <td>26776.119141</td>\n",
       "      <td>26908.820312</td>\n",
       "      <td>26908.820312</td>\n",
       "      <td>12200</td>\n",
       "    </tr>\n",
       "    <tr>\n",
       "      <th>2015-01-08</th>\n",
       "      <td>27178.769531</td>\n",
       "      <td>27316.410156</td>\n",
       "      <td>27101.939453</td>\n",
       "      <td>27274.710938</td>\n",
       "      <td>27274.710938</td>\n",
       "      <td>8200</td>\n",
       "    </tr>\n",
       "  </tbody>\n",
       "</table>\n",
       "</div>"
      ],
      "text/plain": [
       "                    open          high           low         close  \\\n",
       "Date                                                                 \n",
       "2015-01-02  27521.279297  27937.470703  27519.259766  27887.900391   \n",
       "2015-01-05  27978.429688  28064.490234  27786.849609  27842.320312   \n",
       "2015-01-06  27694.230469  27698.929688  26937.060547  26987.460938   \n",
       "2015-01-07  26983.429688  27051.599609  26776.119141  26908.820312   \n",
       "2015-01-08  27178.769531  27316.410156  27101.939453  27274.710938   \n",
       "\n",
       "                adjclose  volume  \n",
       "Date                              \n",
       "2015-01-02  27887.900391    7400  \n",
       "2015-01-05  27842.320312    9200  \n",
       "2015-01-06  26987.460938   14100  \n",
       "2015-01-07  26908.820312   12200  \n",
       "2015-01-08  27274.710938    8200  "
      ]
     },
     "execution_count": 12,
     "metadata": {},
     "output_type": "execute_result"
    }
   ],
   "source": [
    "bse_data.head()"
   ]
  },
  {
   "cell_type": "code",
   "execution_count": 13,
   "id": "50758379",
   "metadata": {},
   "outputs": [
    {
     "data": {
      "text/html": [
       "<div>\n",
       "<style scoped>\n",
       "    .dataframe tbody tr th:only-of-type {\n",
       "        vertical-align: middle;\n",
       "    }\n",
       "\n",
       "    .dataframe tbody tr th {\n",
       "        vertical-align: top;\n",
       "    }\n",
       "\n",
       "    .dataframe thead th {\n",
       "        text-align: right;\n",
       "    }\n",
       "</style>\n",
       "<table border=\"1\" class=\"dataframe\">\n",
       "  <thead>\n",
       "    <tr style=\"text-align: right;\">\n",
       "      <th></th>\n",
       "      <th>open</th>\n",
       "      <th>high</th>\n",
       "      <th>low</th>\n",
       "      <th>close</th>\n",
       "      <th>adjclose</th>\n",
       "      <th>volume</th>\n",
       "    </tr>\n",
       "    <tr>\n",
       "      <th>Date</th>\n",
       "      <th></th>\n",
       "      <th></th>\n",
       "      <th></th>\n",
       "      <th></th>\n",
       "      <th></th>\n",
       "      <th></th>\n",
       "    </tr>\n",
       "  </thead>\n",
       "  <tbody>\n",
       "    <tr>\n",
       "      <th>2020-06-23</th>\n",
       "      <td>35015.730469</td>\n",
       "      <td>35482.160156</td>\n",
       "      <td>34843.691406</td>\n",
       "      <td>35430.429688</td>\n",
       "      <td>35430.429688</td>\n",
       "      <td>25200</td>\n",
       "    </tr>\n",
       "    <tr>\n",
       "      <th>2020-06-24</th>\n",
       "      <td>35679.738281</td>\n",
       "      <td>35706.550781</td>\n",
       "      <td>34794.929688</td>\n",
       "      <td>34868.980469</td>\n",
       "      <td>34868.980469</td>\n",
       "      <td>26600</td>\n",
       "    </tr>\n",
       "    <tr>\n",
       "      <th>2020-06-25</th>\n",
       "      <td>34525.390625</td>\n",
       "      <td>35081.609375</td>\n",
       "      <td>34499.781250</td>\n",
       "      <td>34842.101562</td>\n",
       "      <td>34842.101562</td>\n",
       "      <td>24600</td>\n",
       "    </tr>\n",
       "    <tr>\n",
       "      <th>2020-06-26</th>\n",
       "      <td>35144.781250</td>\n",
       "      <td>35254.878906</td>\n",
       "      <td>34910.339844</td>\n",
       "      <td>35171.269531</td>\n",
       "      <td>35171.269531</td>\n",
       "      <td>24800</td>\n",
       "    </tr>\n",
       "    <tr>\n",
       "      <th>2020-06-29</th>\n",
       "      <td>34926.949219</td>\n",
       "      <td>35032.359375</td>\n",
       "      <td>34662.058594</td>\n",
       "      <td>34961.519531</td>\n",
       "      <td>34961.519531</td>\n",
       "      <td>18300</td>\n",
       "    </tr>\n",
       "  </tbody>\n",
       "</table>\n",
       "</div>"
      ],
      "text/plain": [
       "                    open          high           low         close  \\\n",
       "Date                                                                 \n",
       "2020-06-23  35015.730469  35482.160156  34843.691406  35430.429688   \n",
       "2020-06-24  35679.738281  35706.550781  34794.929688  34868.980469   \n",
       "2020-06-25  34525.390625  35081.609375  34499.781250  34842.101562   \n",
       "2020-06-26  35144.781250  35254.878906  34910.339844  35171.269531   \n",
       "2020-06-29  34926.949219  35032.359375  34662.058594  34961.519531   \n",
       "\n",
       "                adjclose  volume  \n",
       "Date                              \n",
       "2020-06-23  35430.429688   25200  \n",
       "2020-06-24  34868.980469   26600  \n",
       "2020-06-25  34842.101562   24600  \n",
       "2020-06-26  35171.269531   24800  \n",
       "2020-06-29  34961.519531   18300  "
      ]
     },
     "execution_count": 13,
     "metadata": {},
     "output_type": "execute_result"
    }
   ],
   "source": [
    "bse_data.tail()"
   ]
  },
  {
   "cell_type": "code",
   "execution_count": 14,
   "id": "c026ae24",
   "metadata": {},
   "outputs": [
    {
     "data": {
      "text/html": [
       "<div>\n",
       "<style scoped>\n",
       "    .dataframe tbody tr th:only-of-type {\n",
       "        vertical-align: middle;\n",
       "    }\n",
       "\n",
       "    .dataframe tbody tr th {\n",
       "        vertical-align: top;\n",
       "    }\n",
       "\n",
       "    .dataframe thead th {\n",
       "        text-align: right;\n",
       "    }\n",
       "</style>\n",
       "<table border=\"1\" class=\"dataframe\">\n",
       "  <thead>\n",
       "    <tr style=\"text-align: right;\">\n",
       "      <th></th>\n",
       "      <th>open</th>\n",
       "      <th>high</th>\n",
       "      <th>low</th>\n",
       "      <th>close</th>\n",
       "      <th>adjclose</th>\n",
       "      <th>volume</th>\n",
       "    </tr>\n",
       "    <tr>\n",
       "      <th>Date</th>\n",
       "      <th></th>\n",
       "      <th></th>\n",
       "      <th></th>\n",
       "      <th></th>\n",
       "      <th></th>\n",
       "      <th></th>\n",
       "    </tr>\n",
       "  </thead>\n",
       "  <tbody>\n",
       "    <tr>\n",
       "      <th>2020-06-30</th>\n",
       "      <td>35168.300781</td>\n",
       "      <td>35233.910156</td>\n",
       "      <td>34812.800781</td>\n",
       "      <td>34915.800781</td>\n",
       "      <td>34915.800781</td>\n",
       "      <td>18500</td>\n",
       "    </tr>\n",
       "  </tbody>\n",
       "</table>\n",
       "</div>"
      ],
      "text/plain": [
       "                    open          high           low         close  \\\n",
       "Date                                                                 \n",
       "2020-06-30  35168.300781  35233.910156  34812.800781  34915.800781   \n",
       "\n",
       "                adjclose  volume  \n",
       "Date                              \n",
       "2020-06-30  34915.800781   18500  "
      ]
     },
     "execution_count": 14,
     "metadata": {},
     "output_type": "execute_result"
    }
   ],
   "source": [
    "unseenbse_data.head()"
   ]
  },
  {
   "cell_type": "code",
   "execution_count": 15,
   "id": "4e37a2e3",
   "metadata": {},
   "outputs": [
    {
     "data": {
      "text/html": [
       "<div>\n",
       "<style scoped>\n",
       "    .dataframe tbody tr th:only-of-type {\n",
       "        vertical-align: middle;\n",
       "    }\n",
       "\n",
       "    .dataframe tbody tr th {\n",
       "        vertical-align: top;\n",
       "    }\n",
       "\n",
       "    .dataframe thead th {\n",
       "        text-align: right;\n",
       "    }\n",
       "</style>\n",
       "<table border=\"1\" class=\"dataframe\">\n",
       "  <thead>\n",
       "    <tr style=\"text-align: right;\">\n",
       "      <th></th>\n",
       "      <th>date</th>\n",
       "      <th>open</th>\n",
       "      <th>high</th>\n",
       "      <th>low</th>\n",
       "      <th>close</th>\n",
       "      <th>adjclose</th>\n",
       "      <th>volume</th>\n",
       "    </tr>\n",
       "  </thead>\n",
       "  <tbody>\n",
       "    <tr>\n",
       "      <th>0</th>\n",
       "      <td>2015-01-02</td>\n",
       "      <td>27521.279297</td>\n",
       "      <td>27937.470703</td>\n",
       "      <td>27519.259766</td>\n",
       "      <td>27887.900391</td>\n",
       "      <td>27887.900391</td>\n",
       "      <td>7400</td>\n",
       "    </tr>\n",
       "    <tr>\n",
       "      <th>1</th>\n",
       "      <td>2015-01-05</td>\n",
       "      <td>27978.429688</td>\n",
       "      <td>28064.490234</td>\n",
       "      <td>27786.849609</td>\n",
       "      <td>27842.320312</td>\n",
       "      <td>27842.320312</td>\n",
       "      <td>9200</td>\n",
       "    </tr>\n",
       "    <tr>\n",
       "      <th>2</th>\n",
       "      <td>2015-01-06</td>\n",
       "      <td>27694.230469</td>\n",
       "      <td>27698.929688</td>\n",
       "      <td>26937.060547</td>\n",
       "      <td>26987.460938</td>\n",
       "      <td>26987.460938</td>\n",
       "      <td>14100</td>\n",
       "    </tr>\n",
       "    <tr>\n",
       "      <th>3</th>\n",
       "      <td>2015-01-07</td>\n",
       "      <td>26983.429688</td>\n",
       "      <td>27051.599609</td>\n",
       "      <td>26776.119141</td>\n",
       "      <td>26908.820312</td>\n",
       "      <td>26908.820312</td>\n",
       "      <td>12200</td>\n",
       "    </tr>\n",
       "    <tr>\n",
       "      <th>4</th>\n",
       "      <td>2015-01-08</td>\n",
       "      <td>27178.769531</td>\n",
       "      <td>27316.410156</td>\n",
       "      <td>27101.939453</td>\n",
       "      <td>27274.710938</td>\n",
       "      <td>27274.710938</td>\n",
       "      <td>8200</td>\n",
       "    </tr>\n",
       "  </tbody>\n",
       "</table>\n",
       "</div>"
      ],
      "text/plain": [
       "        date          open          high           low         close  \\\n",
       "0 2015-01-02  27521.279297  27937.470703  27519.259766  27887.900391   \n",
       "1 2015-01-05  27978.429688  28064.490234  27786.849609  27842.320312   \n",
       "2 2015-01-06  27694.230469  27698.929688  26937.060547  26987.460938   \n",
       "3 2015-01-07  26983.429688  27051.599609  26776.119141  26908.820312   \n",
       "4 2015-01-08  27178.769531  27316.410156  27101.939453  27274.710938   \n",
       "\n",
       "       adjclose  volume  \n",
       "0  27887.900391    7400  \n",
       "1  27842.320312    9200  \n",
       "2  26987.460938   14100  \n",
       "3  26908.820312   12200  \n",
       "4  27274.710938    8200  "
      ]
     },
     "execution_count": 15,
     "metadata": {},
     "output_type": "execute_result"
    }
   ],
   "source": [
    "bse_data.reset_index(inplace=True)\n",
    "bse_data.rename(columns={'Date': 'date'}, inplace = True)\n",
    "bse_data.head()"
   ]
  },
  {
   "cell_type": "code",
   "execution_count": 16,
   "id": "6e38a968",
   "metadata": {},
   "outputs": [
    {
     "data": {
      "text/html": [
       "<div>\n",
       "<style scoped>\n",
       "    .dataframe tbody tr th:only-of-type {\n",
       "        vertical-align: middle;\n",
       "    }\n",
       "\n",
       "    .dataframe tbody tr th {\n",
       "        vertical-align: top;\n",
       "    }\n",
       "\n",
       "    .dataframe thead th {\n",
       "        text-align: right;\n",
       "    }\n",
       "</style>\n",
       "<table border=\"1\" class=\"dataframe\">\n",
       "  <thead>\n",
       "    <tr style=\"text-align: right;\">\n",
       "      <th></th>\n",
       "      <th>date</th>\n",
       "      <th>open</th>\n",
       "      <th>high</th>\n",
       "      <th>low</th>\n",
       "      <th>close</th>\n",
       "      <th>adjclose</th>\n",
       "      <th>volume</th>\n",
       "    </tr>\n",
       "  </thead>\n",
       "  <tbody>\n",
       "    <tr>\n",
       "      <th>0</th>\n",
       "      <td>2020-06-30</td>\n",
       "      <td>35168.300781</td>\n",
       "      <td>35233.910156</td>\n",
       "      <td>34812.800781</td>\n",
       "      <td>34915.800781</td>\n",
       "      <td>34915.800781</td>\n",
       "      <td>18500</td>\n",
       "    </tr>\n",
       "  </tbody>\n",
       "</table>\n",
       "</div>"
      ],
      "text/plain": [
       "        date          open          high           low         close  \\\n",
       "0 2020-06-30  35168.300781  35233.910156  34812.800781  34915.800781   \n",
       "\n",
       "       adjclose  volume  \n",
       "0  34915.800781   18500  "
      ]
     },
     "execution_count": 16,
     "metadata": {},
     "output_type": "execute_result"
    }
   ],
   "source": [
    "unseenbse_data.reset_index(inplace=True)\n",
    "unseenbse_data.rename(columns={'Date': 'date'}, inplace = True)\n",
    "unseenbse_data.head()"
   ]
  },
  {
   "cell_type": "code",
   "execution_count": 17,
   "id": "47af5d2d",
   "metadata": {},
   "outputs": [
    {
     "data": {
      "text/plain": [
       "0    34987.5\n",
       "dtype: float64"
      ]
     },
     "execution_count": 17,
     "metadata": {},
     "output_type": "execute_result"
    }
   ],
   "source": [
    "bse_data['date'] = pd.to_datetime(bse_data['date'], format = '%Y%m%d')\n",
    "unseenbse_data['date'] = pd.to_datetime(unseenbse_data['date'], format = '%Y%m%d')\n",
    "#before moving forward let us calculate first the actual price\n",
    "unseenbsedata_price = round((unseenbse_data['high'] + unseenbse_data['low'] + unseenbse_data['close'])/ 3, 2)\n",
    "unseenbsedata_price  #actual price"
   ]
  },
  {
   "cell_type": "markdown",
   "id": "711b6101",
   "metadata": {},
   "source": [
    "# Rolling window analysis of time series"
   ]
  },
  {
   "cell_type": "code",
   "execution_count": 18,
   "id": "2600ebce",
   "metadata": {},
   "outputs": [
    {
     "data": {
      "text/html": [
       "<div>\n",
       "<style scoped>\n",
       "    .dataframe tbody tr th:only-of-type {\n",
       "        vertical-align: middle;\n",
       "    }\n",
       "\n",
       "    .dataframe tbody tr th {\n",
       "        vertical-align: top;\n",
       "    }\n",
       "\n",
       "    .dataframe thead th {\n",
       "        text-align: right;\n",
       "    }\n",
       "</style>\n",
       "<table border=\"1\" class=\"dataframe\">\n",
       "  <thead>\n",
       "    <tr style=\"text-align: right;\">\n",
       "      <th></th>\n",
       "      <th>close</th>\n",
       "      <th>movingavg</th>\n",
       "    </tr>\n",
       "    <tr>\n",
       "      <th>date</th>\n",
       "      <th></th>\n",
       "      <th></th>\n",
       "    </tr>\n",
       "  </thead>\n",
       "  <tbody>\n",
       "    <tr>\n",
       "      <th>2015-02-02</th>\n",
       "      <td>29122.269531</td>\n",
       "      <td>28256.509570</td>\n",
       "    </tr>\n",
       "    <tr>\n",
       "      <th>2015-02-03</th>\n",
       "      <td>29000.140625</td>\n",
       "      <td>28318.228027</td>\n",
       "    </tr>\n",
       "    <tr>\n",
       "      <th>2015-02-04</th>\n",
       "      <td>28883.109375</td>\n",
       "      <td>28376.119043</td>\n",
       "    </tr>\n",
       "    <tr>\n",
       "      <th>2015-02-05</th>\n",
       "      <td>28850.970703</td>\n",
       "      <td>28470.901465</td>\n",
       "    </tr>\n",
       "    <tr>\n",
       "      <th>2015-02-06</th>\n",
       "      <td>28717.910156</td>\n",
       "      <td>28568.008984</td>\n",
       "    </tr>\n",
       "  </tbody>\n",
       "</table>\n",
       "</div>"
      ],
      "text/plain": [
       "                   close     movingavg\n",
       "date                                  \n",
       "2015-02-02  29122.269531  28256.509570\n",
       "2015-02-03  29000.140625  28318.228027\n",
       "2015-02-04  28883.109375  28376.119043\n",
       "2015-02-05  28850.970703  28470.901465\n",
       "2015-02-06  28717.910156  28568.008984"
      ]
     },
     "execution_count": 18,
     "metadata": {},
     "output_type": "execute_result"
    }
   ],
   "source": [
    "def stock_weekmovingavg(wks, df):\n",
    "  dateclose_data = pd.DataFrame({'date': df['date'], 'close':df['close']})\n",
    "  dateclose_data.set_index('date', inplace=True)\n",
    "  num = wks * 5                                 #calculating the number of days in the week. 5 days because BSE is open for 5 days / week\n",
    "  dateclose_data['movingavg'] = dateclose_data['close'].rolling(window=num).mean().shift()\n",
    "  return dateclose_data.dropna()\n",
    "stock_weekmovingavg(4, bse_data).head()"
   ]
  },
  {
   "cell_type": "code",
   "execution_count": 19,
   "id": "f8af051a",
   "metadata": {},
   "outputs": [
    {
     "data": {
      "text/plain": [
       "<AxesSubplot:xlabel='date'>"
      ]
     },
     "execution_count": 19,
     "metadata": {},
     "output_type": "execute_result"
    },
    {
     "data": {
      "image/png": "[encoded data removed]",
      "text/plain": [
       "<Figure size 432x288 with 1 Axes>"
      ]
     },
     "metadata": {
      "needs_background": "light"
     },
     "output_type": "display_data"
    }
   ],
   "source": [
    "stock_weekmovingavg(4, bse_data).plot()"
   ]
  },
  {
   "cell_type": "code",
   "execution_count": null,
   "id": "a4986468",
   "metadata": {},
   "outputs": [],
   "source": [
    "\n"
   ]
  },
  {
   "cell_type": "code",
   "execution_count": 21,
   "id": "62b81c44",
   "metadata": {},
   "outputs": [
    {
     "data": {
      "image/png": "[encoded data removed]",
      "text/plain": [
       "<Figure size 432x288 with 1 Axes>"
      ]
     },
     "metadata": {
      "needs_background": "light"
     },
     "output_type": "display_data"
    }
   ],
   "source": [
    "plotfourweek = altdata_fourweek.filter(['date', 'movingavg'], axis=1) #df.copy()\n",
    "plotfourweek.index = pd.Index(sm.tsa.datetools.dates_from_range('2015', length=len(altdata_fourweek['date']))) \n",
    "del plotfourweek['date']\n",
    "sm.graphics.tsa.plot_pacf(plotfourweek.values.squeeze())\n",
    "plt.show()\n"
   ]
  },
  {
   "cell_type": "code",
   "execution_count": 23,
   "id": "567c9f8c",
   "metadata": {},
   "outputs": [
    {
     "data": {
      "text/html": [
       "<div>\n",
       "<style scoped>\n",
       "    .dataframe tbody tr th:only-of-type {\n",
       "        vertical-align: middle;\n",
       "    }\n",
       "\n",
       "    .dataframe tbody tr th {\n",
       "        vertical-align: top;\n",
       "    }\n",
       "\n",
       "    .dataframe thead th {\n",
       "        text-align: right;\n",
       "    }\n",
       "</style>\n",
       "<table border=\"1\" class=\"dataframe\">\n",
       "  <thead>\n",
       "    <tr style=\"text-align: right;\">\n",
       "      <th></th>\n",
       "      <th>close</th>\n",
       "      <th>movingavg</th>\n",
       "    </tr>\n",
       "    <tr>\n",
       "      <th>date</th>\n",
       "      <th></th>\n",
       "      <th></th>\n",
       "    </tr>\n",
       "  </thead>\n",
       "  <tbody>\n",
       "    <tr>\n",
       "      <th>2015-05-05</th>\n",
       "      <td>27440.140625</td>\n",
       "      <td>28447.880933</td>\n",
       "    </tr>\n",
       "    <tr>\n",
       "      <th>2015-05-06</th>\n",
       "      <td>26717.369141</td>\n",
       "      <td>28442.283936</td>\n",
       "    </tr>\n",
       "    <tr>\n",
       "      <th>2015-05-07</th>\n",
       "      <td>26599.109375</td>\n",
       "      <td>28428.222046</td>\n",
       "    </tr>\n",
       "    <tr>\n",
       "      <th>2015-05-08</th>\n",
       "      <td>27105.390625</td>\n",
       "      <td>28423.367651</td>\n",
       "    </tr>\n",
       "    <tr>\n",
       "      <th>2015-05-11</th>\n",
       "      <td>27507.300781</td>\n",
       "      <td>28425.824780</td>\n",
       "    </tr>\n",
       "  </tbody>\n",
       "</table>\n",
       "</div>"
      ],
      "text/plain": [
       "                   close     movingavg\n",
       "date                                  \n",
       "2015-05-05  27440.140625  28447.880933\n",
       "2015-05-06  26717.369141  28442.283936\n",
       "2015-05-07  26599.109375  28428.222046\n",
       "2015-05-08  27105.390625  28423.367651\n",
       "2015-05-11  27507.300781  28425.824780"
      ]
     },
     "execution_count": 23,
     "metadata": {},
     "output_type": "execute_result"
    }
   ],
   "source": [
    "stock_weekmovingavg(16, bse_data).head()"
   ]
  },
  {
   "cell_type": "code",
   "execution_count": 24,
   "id": "f341a138",
   "metadata": {},
   "outputs": [
    {
     "data": {
      "text/plain": [
       "<AxesSubplot:xlabel='date'>"
      ]
     },
     "execution_count": 24,
     "metadata": {},
     "output_type": "execute_result"
    },
    {
     "data": {
      "image/png": "[encoded data removed]",
      "text/plain": [
       "<Figure size 432x288 with 1 Axes>"
      ]
     },
     "metadata": {
      "needs_background": "light"
     },
     "output_type": "display_data"
    }
   ],
   "source": [
    "stock_weekmovingavg(16, bse_data).plot()"
   ]
  },
  {
   "cell_type": "code",
   "execution_count": 27,
   "id": "24bc6032",
   "metadata": {},
   "outputs": [
    {
     "data": {
      "text/html": [
       "<div>\n",
       "<style scoped>\n",
       "    .dataframe tbody tr th:only-of-type {\n",
       "        vertical-align: middle;\n",
       "    }\n",
       "\n",
       "    .dataframe tbody tr th {\n",
       "        vertical-align: top;\n",
       "    }\n",
       "\n",
       "    .dataframe thead th {\n",
       "        text-align: right;\n",
       "    }\n",
       "</style>\n",
       "<table border=\"1\" class=\"dataframe\">\n",
       "  <thead>\n",
       "    <tr style=\"text-align: right;\">\n",
       "      <th></th>\n",
       "      <th>close</th>\n",
       "      <th>movingavg</th>\n",
       "    </tr>\n",
       "    <tr>\n",
       "      <th>date</th>\n",
       "      <th></th>\n",
       "      <th></th>\n",
       "    </tr>\n",
       "  </thead>\n",
       "  <tbody>\n",
       "    <tr>\n",
       "      <th>2016-01-25</th>\n",
       "      <td>24485.949219</td>\n",
       "      <td>27198.907963</td>\n",
       "    </tr>\n",
       "    <tr>\n",
       "      <th>2016-01-27</th>\n",
       "      <td>24492.390625</td>\n",
       "      <td>27185.823535</td>\n",
       "    </tr>\n",
       "    <tr>\n",
       "      <th>2016-01-28</th>\n",
       "      <td>24469.570312</td>\n",
       "      <td>27172.939190</td>\n",
       "    </tr>\n",
       "    <tr>\n",
       "      <th>2016-01-29</th>\n",
       "      <td>24870.689453</td>\n",
       "      <td>27163.254995</td>\n",
       "    </tr>\n",
       "    <tr>\n",
       "      <th>2016-02-01</th>\n",
       "      <td>24824.830078</td>\n",
       "      <td>27155.416031</td>\n",
       "    </tr>\n",
       "  </tbody>\n",
       "</table>\n",
       "</div>"
      ],
      "text/plain": [
       "                   close     movingavg\n",
       "date                                  \n",
       "2016-01-25  24485.949219  27198.907963\n",
       "2016-01-27  24492.390625  27185.823535\n",
       "2016-01-28  24469.570312  27172.939190\n",
       "2016-01-29  24870.689453  27163.254995\n",
       "2016-02-01  24824.830078  27155.416031"
      ]
     },
     "execution_count": 27,
     "metadata": {},
     "output_type": "execute_result"
    }
   ],
   "source": [
    "stock_weekmovingavg(52, bse_data).head()"
   ]
  },
  {
   "cell_type": "markdown",
   "id": "30878252",
   "metadata": {},
   "source": [
    "# Creating a rolling window of size 10 and 50 of the BSE index"
   ]
  },
  {
   "cell_type": "code",
   "execution_count": 28,
   "id": "122d3dee",
   "metadata": {},
   "outputs": [
    {
     "data": {
      "text/html": [
       "<div>\n",
       "<style scoped>\n",
       "    .dataframe tbody tr th:only-of-type {\n",
       "        vertical-align: middle;\n",
       "    }\n",
       "\n",
       "    .dataframe tbody tr th {\n",
       "        vertical-align: top;\n",
       "    }\n",
       "\n",
       "    .dataframe thead th {\n",
       "        text-align: right;\n",
       "    }\n",
       "</style>\n",
       "<table border=\"1\" class=\"dataframe\">\n",
       "  <thead>\n",
       "    <tr style=\"text-align: right;\">\n",
       "      <th></th>\n",
       "      <th>open</th>\n",
       "      <th>high</th>\n",
       "      <th>low</th>\n",
       "      <th>close</th>\n",
       "    </tr>\n",
       "    <tr>\n",
       "      <th>date</th>\n",
       "      <th></th>\n",
       "      <th></th>\n",
       "      <th></th>\n",
       "      <th></th>\n",
       "    </tr>\n",
       "  </thead>\n",
       "  <tbody>\n",
       "    <tr>\n",
       "      <th>2015-01-16</th>\n",
       "      <td>27515.904883</td>\n",
       "      <td>27657.483008</td>\n",
       "      <td>27279.612891</td>\n",
       "      <td>27479.296484</td>\n",
       "    </tr>\n",
       "    <tr>\n",
       "      <th>2015-01-19</th>\n",
       "      <td>27569.437891</td>\n",
       "      <td>27681.345898</td>\n",
       "      <td>27322.217969</td>\n",
       "      <td>27502.695508</td>\n",
       "    </tr>\n",
       "    <tr>\n",
       "      <th>2015-01-20</th>\n",
       "      <td>27596.578906</td>\n",
       "      <td>27708.302930</td>\n",
       "      <td>27363.268945</td>\n",
       "      <td>27544.664453</td>\n",
       "    </tr>\n",
       "    <tr>\n",
       "      <th>2015-01-21</th>\n",
       "      <td>27659.640820</td>\n",
       "      <td>27821.338867</td>\n",
       "      <td>27502.047852</td>\n",
       "      <td>27724.385352</td>\n",
       "    </tr>\n",
       "    <tr>\n",
       "      <th>2015-01-22</th>\n",
       "      <td>27845.606836</td>\n",
       "      <td>28011.988867</td>\n",
       "      <td>27703.692969</td>\n",
       "      <td>27922.389258</td>\n",
       "    </tr>\n",
       "  </tbody>\n",
       "</table>\n",
       "</div>"
      ],
      "text/plain": [
       "                    open          high           low         close\n",
       "date                                                              \n",
       "2015-01-16  27515.904883  27657.483008  27279.612891  27479.296484\n",
       "2015-01-19  27569.437891  27681.345898  27322.217969  27502.695508\n",
       "2015-01-20  27596.578906  27708.302930  27363.268945  27544.664453\n",
       "2015-01-21  27659.640820  27821.338867  27502.047852  27724.385352\n",
       "2015-01-22  27845.606836  28011.988867  27703.692969  27922.389258"
      ]
     },
     "execution_count": 28,
     "metadata": {},
     "output_type": "execute_result"
    }
   ],
   "source": [
    "def rollingwindows(days, df):\n",
    "  data = df.filter(['date','open','high','low','close'], axis=1) #df.copy()\n",
    "  data.set_index('date', inplace=True)\n",
    "  rollingwindows_data = data.rolling(window=days).mean().shift()\n",
    "  return rollingwindows_data.dropna()\n",
    "rollingwindows(10, bse_data).head()"
   ]
  },
  {
   "cell_type": "code",
   "execution_count": 29,
   "id": "8669f1d1",
   "metadata": {},
   "outputs": [
    {
     "data": {
      "text/plain": [
       "<AxesSubplot:xlabel='date'>"
      ]
     },
     "execution_count": 29,
     "metadata": {},
     "output_type": "execute_result"
    },
    {
     "data": {
      "image/png": "[encoded data removed]",
      "text/plain": [
       "<Figure size 432x288 with 1 Axes>"
      ]
     },
     "metadata": {
      "needs_background": "light"
     },
     "output_type": "display_data"
    }
   ],
   "source": [
    "rollingwindows(10, bse_data).plot()"
   ]
  },
  {
   "cell_type": "code",
   "execution_count": 30,
   "id": "d308d626",
   "metadata": {},
   "outputs": [
    {
     "data": {
      "text/html": [
       "<div>\n",
       "<style scoped>\n",
       "    .dataframe tbody tr th:only-of-type {\n",
       "        vertical-align: middle;\n",
       "    }\n",
       "\n",
       "    .dataframe tbody tr th {\n",
       "        vertical-align: top;\n",
       "    }\n",
       "\n",
       "    .dataframe thead th {\n",
       "        text-align: right;\n",
       "    }\n",
       "</style>\n",
       "<table border=\"1\" class=\"dataframe\">\n",
       "  <thead>\n",
       "    <tr style=\"text-align: right;\">\n",
       "      <th></th>\n",
       "      <th>open</th>\n",
       "      <th>high</th>\n",
       "      <th>low</th>\n",
       "      <th>close</th>\n",
       "    </tr>\n",
       "    <tr>\n",
       "      <th>date</th>\n",
       "      <th></th>\n",
       "      <th></th>\n",
       "      <th></th>\n",
       "      <th></th>\n",
       "    </tr>\n",
       "  </thead>\n",
       "  <tbody>\n",
       "    <tr>\n",
       "      <th>2015-03-18</th>\n",
       "      <td>28721.847383</td>\n",
       "      <td>28863.956836</td>\n",
       "      <td>28502.767422</td>\n",
       "      <td>28670.602461</td>\n",
       "    </tr>\n",
       "    <tr>\n",
       "      <th>2015-03-19</th>\n",
       "      <td>28746.759180</td>\n",
       "      <td>28881.346836</td>\n",
       "      <td>28523.317422</td>\n",
       "      <td>28685.286836</td>\n",
       "    </tr>\n",
       "    <tr>\n",
       "      <th>2015-03-20</th>\n",
       "      <td>28763.295000</td>\n",
       "      <td>28899.631836</td>\n",
       "      <td>28535.814414</td>\n",
       "      <td>28697.833828</td>\n",
       "    </tr>\n",
       "    <tr>\n",
       "      <th>2015-03-23</th>\n",
       "      <td>28778.719180</td>\n",
       "      <td>28915.340430</td>\n",
       "      <td>28561.266406</td>\n",
       "      <td>28723.306211</td>\n",
       "    </tr>\n",
       "    <tr>\n",
       "      <th>2015-03-24</th>\n",
       "      <td>28805.396367</td>\n",
       "      <td>28942.011250</td>\n",
       "      <td>28589.022031</td>\n",
       "      <td>28748.970195</td>\n",
       "    </tr>\n",
       "  </tbody>\n",
       "</table>\n",
       "</div>"
      ],
      "text/plain": [
       "                    open          high           low         close\n",
       "date                                                              \n",
       "2015-03-18  28721.847383  28863.956836  28502.767422  28670.602461\n",
       "2015-03-19  28746.759180  28881.346836  28523.317422  28685.286836\n",
       "2015-03-20  28763.295000  28899.631836  28535.814414  28697.833828\n",
       "2015-03-23  28778.719180  28915.340430  28561.266406  28723.306211\n",
       "2015-03-24  28805.396367  28942.011250  28589.022031  28748.970195"
      ]
     },
     "execution_count": 30,
     "metadata": {},
     "output_type": "execute_result"
    }
   ],
   "source": [
    "rollingwindows(50, bse_data).head()"
   ]
  },
  {
   "cell_type": "markdown",
   "id": "3889144e",
   "metadata": {},
   "source": [
    "# Creating the dummy time series:"
   ]
  },
  {
   "cell_type": "code",
   "execution_count": 31,
   "id": "4232b809",
   "metadata": {},
   "outputs": [],
   "source": [
    "def boolean_shock(percent, df, col):\n",
    "  data = df.filter(['date', col], axis=1) #df.copy()\n",
    "  data.set_index('date', inplace=True)\n",
    "  data['percentchg'] = (data[col].pct_change()) * 100  #percentage change compare to previous volume using pct_change() function\n",
    "  data['shock'] = data['percentchg'].apply(lambda x: 1 if x >= percent else 0)\n",
    "  data.drop(col, axis = 1, inplace = True)\n",
    "  return data.dropna()"
   ]
  },
  {
   "cell_type": "code",
   "execution_count": 32,
   "id": "3c0a76af",
   "metadata": {},
   "outputs": [
    {
     "data": {
      "text/html": [
       "<div>\n",
       "<style scoped>\n",
       "    .dataframe tbody tr th:only-of-type {\n",
       "        vertical-align: middle;\n",
       "    }\n",
       "\n",
       "    .dataframe tbody tr th {\n",
       "        vertical-align: top;\n",
       "    }\n",
       "\n",
       "    .dataframe thead th {\n",
       "        text-align: right;\n",
       "    }\n",
       "</style>\n",
       "<table border=\"1\" class=\"dataframe\">\n",
       "  <thead>\n",
       "    <tr style=\"text-align: right;\">\n",
       "      <th></th>\n",
       "      <th>percentchg</th>\n",
       "      <th>shock</th>\n",
       "    </tr>\n",
       "    <tr>\n",
       "      <th>date</th>\n",
       "      <th></th>\n",
       "      <th></th>\n",
       "    </tr>\n",
       "  </thead>\n",
       "  <tbody>\n",
       "    <tr>\n",
       "      <th>2015-01-05</th>\n",
       "      <td>24.324324</td>\n",
       "      <td>1</td>\n",
       "    </tr>\n",
       "    <tr>\n",
       "      <th>2015-01-06</th>\n",
       "      <td>53.260870</td>\n",
       "      <td>1</td>\n",
       "    </tr>\n",
       "    <tr>\n",
       "      <th>2015-01-07</th>\n",
       "      <td>-13.475177</td>\n",
       "      <td>0</td>\n",
       "    </tr>\n",
       "    <tr>\n",
       "      <th>2015-01-08</th>\n",
       "      <td>-32.786885</td>\n",
       "      <td>0</td>\n",
       "    </tr>\n",
       "    <tr>\n",
       "      <th>2015-01-09</th>\n",
       "      <td>35.365854</td>\n",
       "      <td>1</td>\n",
       "    </tr>\n",
       "    <tr>\n",
       "      <th>...</th>\n",
       "      <td>...</td>\n",
       "      <td>...</td>\n",
       "    </tr>\n",
       "    <tr>\n",
       "      <th>2020-06-23</th>\n",
       "      <td>0.398406</td>\n",
       "      <td>0</td>\n",
       "    </tr>\n",
       "    <tr>\n",
       "      <th>2020-06-24</th>\n",
       "      <td>5.555556</td>\n",
       "      <td>0</td>\n",
       "    </tr>\n",
       "    <tr>\n",
       "      <th>2020-06-25</th>\n",
       "      <td>-7.518797</td>\n",
       "      <td>0</td>\n",
       "    </tr>\n",
       "    <tr>\n",
       "      <th>2020-06-26</th>\n",
       "      <td>0.813008</td>\n",
       "      <td>0</td>\n",
       "    </tr>\n",
       "    <tr>\n",
       "      <th>2020-06-29</th>\n",
       "      <td>-26.209677</td>\n",
       "      <td>0</td>\n",
       "    </tr>\n",
       "  </tbody>\n",
       "</table>\n",
       "<p>1344 rows × 2 columns</p>\n",
       "</div>"
      ],
      "text/plain": [
       "            percentchg  shock\n",
       "date                         \n",
       "2015-01-05   24.324324      1\n",
       "2015-01-06   53.260870      1\n",
       "2015-01-07  -13.475177      0\n",
       "2015-01-08  -32.786885      0\n",
       "2015-01-09   35.365854      1\n",
       "...                ...    ...\n",
       "2020-06-23    0.398406      0\n",
       "2020-06-24    5.555556      0\n",
       "2020-06-25   -7.518797      0\n",
       "2020-06-26    0.813008      0\n",
       "2020-06-29  -26.209677      0\n",
       "\n",
       "[1344 rows x 2 columns]"
      ]
     },
     "execution_count": 32,
     "metadata": {},
     "output_type": "execute_result"
    }
   ],
   "source": [
    "boolean_shock(10, bse_data, 'volume')"
   ]
  },
  {
   "cell_type": "markdown",
   "id": "f85ef084",
   "metadata": {},
   "source": [
    "# Pricing shock without volume shock"
   ]
  },
  {
   "cell_type": "code",
   "execution_count": 34,
   "id": "7dd24891",
   "metadata": {},
   "outputs": [],
   "source": [
    "def priceboolean_shock(percent, df):\n",
    "  df['date'] = pd.to_datetime(df['date'])\n",
    "  data = df.filter(['date', 'high', 'low','close'], axis=1) #df.copy()\n",
    "  data.set_index('date', inplace=True)\n",
    "  data['priceavg'] = (data['high'] + data['low'] + data['close']) / 3\n",
    "  data['shock'] = (data['priceavg'].pct_change()) * 100\n",
    "  data['shock'] = data['shock'].apply(lambda x: 1 if x >= percent else 0)\n",
    "  data.drop(['high', 'low', 'close'], axis = 1, inplace = True)\n",
    "  return data"
   ]
  },
  {
   "cell_type": "code",
   "execution_count": 35,
   "id": "e3d23b44",
   "metadata": {},
   "outputs": [
    {
     "data": {
      "text/html": [
       "<div>\n",
       "<style scoped>\n",
       "    .dataframe tbody tr th:only-of-type {\n",
       "        vertical-align: middle;\n",
       "    }\n",
       "\n",
       "    .dataframe tbody tr th {\n",
       "        vertical-align: top;\n",
       "    }\n",
       "\n",
       "    .dataframe thead th {\n",
       "        text-align: right;\n",
       "    }\n",
       "</style>\n",
       "<table border=\"1\" class=\"dataframe\">\n",
       "  <thead>\n",
       "    <tr style=\"text-align: right;\">\n",
       "      <th></th>\n",
       "      <th>priceavg</th>\n",
       "      <th>shock</th>\n",
       "    </tr>\n",
       "    <tr>\n",
       "      <th>date</th>\n",
       "      <th></th>\n",
       "      <th></th>\n",
       "    </tr>\n",
       "  </thead>\n",
       "  <tbody>\n",
       "    <tr>\n",
       "      <th>2015-01-02</th>\n",
       "      <td>27781.543620</td>\n",
       "      <td>0</td>\n",
       "    </tr>\n",
       "    <tr>\n",
       "      <th>2015-01-05</th>\n",
       "      <td>27897.886719</td>\n",
       "      <td>0</td>\n",
       "    </tr>\n",
       "    <tr>\n",
       "      <th>2015-01-06</th>\n",
       "      <td>27207.817057</td>\n",
       "      <td>0</td>\n",
       "    </tr>\n",
       "    <tr>\n",
       "      <th>2015-01-07</th>\n",
       "      <td>26912.179688</td>\n",
       "      <td>0</td>\n",
       "    </tr>\n",
       "    <tr>\n",
       "      <th>2015-01-08</th>\n",
       "      <td>27231.020182</td>\n",
       "      <td>0</td>\n",
       "    </tr>\n",
       "    <tr>\n",
       "      <th>...</th>\n",
       "      <td>...</td>\n",
       "      <td>...</td>\n",
       "    </tr>\n",
       "    <tr>\n",
       "      <th>2020-06-23</th>\n",
       "      <td>35252.093750</td>\n",
       "      <td>0</td>\n",
       "    </tr>\n",
       "    <tr>\n",
       "      <th>2020-06-24</th>\n",
       "      <td>35123.486979</td>\n",
       "      <td>0</td>\n",
       "    </tr>\n",
       "    <tr>\n",
       "      <th>2020-06-25</th>\n",
       "      <td>34807.830729</td>\n",
       "      <td>0</td>\n",
       "    </tr>\n",
       "    <tr>\n",
       "      <th>2020-06-26</th>\n",
       "      <td>35112.162760</td>\n",
       "      <td>0</td>\n",
       "    </tr>\n",
       "    <tr>\n",
       "      <th>2020-06-29</th>\n",
       "      <td>34885.312500</td>\n",
       "      <td>0</td>\n",
       "    </tr>\n",
       "  </tbody>\n",
       "</table>\n",
       "<p>1345 rows × 2 columns</p>\n",
       "</div>"
      ],
      "text/plain": [
       "                priceavg  shock\n",
       "date                           \n",
       "2015-01-02  27781.543620      0\n",
       "2015-01-05  27897.886719      0\n",
       "2015-01-06  27207.817057      0\n",
       "2015-01-07  26912.179688      0\n",
       "2015-01-08  27231.020182      0\n",
       "...                  ...    ...\n",
       "2020-06-23  35252.093750      0\n",
       "2020-06-24  35123.486979      0\n",
       "2020-06-25  34807.830729      0\n",
       "2020-06-26  35112.162760      0\n",
       "2020-06-29  34885.312500      0\n",
       "\n",
       "[1345 rows x 2 columns]"
      ]
     },
     "execution_count": 35,
     "metadata": {},
     "output_type": "execute_result"
    }
   ],
   "source": [
    "priceboolean_shock(10, bse_data)"
   ]
  },
  {
   "cell_type": "markdown",
   "id": "9d552ff3",
   "metadata": {},
   "source": [
    "# Creating the reverse dummy time series:\n",
    "Price shocks : we will be creating a 0/1 dummy-coded boolean time series for shock, based on whether closing price at T vs T+1 has a difference > 2%. ( 0/1 dummy-coding is for direction of shock). This will be reverse of pct_change()"
   ]
  },
  {
   "cell_type": "code",
   "execution_count": 36,
   "id": "d52599e9",
   "metadata": {},
   "outputs": [
    {
     "data": {
      "text/html": [
       "<div>\n",
       "<style scoped>\n",
       "    .dataframe tbody tr th:only-of-type {\n",
       "        vertical-align: middle;\n",
       "    }\n",
       "\n",
       "    .dataframe tbody tr th {\n",
       "        vertical-align: top;\n",
       "    }\n",
       "\n",
       "    .dataframe thead th {\n",
       "        text-align: right;\n",
       "    }\n",
       "</style>\n",
       "<table border=\"1\" class=\"dataframe\">\n",
       "  <thead>\n",
       "    <tr style=\"text-align: right;\">\n",
       "      <th></th>\n",
       "      <th>percentchg</th>\n",
       "      <th>shock</th>\n",
       "    </tr>\n",
       "    <tr>\n",
       "      <th>date</th>\n",
       "      <th></th>\n",
       "      <th></th>\n",
       "    </tr>\n",
       "  </thead>\n",
       "  <tbody>\n",
       "    <tr>\n",
       "      <th>2015-01-02</th>\n",
       "      <td>0.163708</td>\n",
       "      <td>0</td>\n",
       "    </tr>\n",
       "    <tr>\n",
       "      <th>2015-01-05</th>\n",
       "      <td>3.167617</td>\n",
       "      <td>1</td>\n",
       "    </tr>\n",
       "    <tr>\n",
       "      <th>2015-01-06</th>\n",
       "      <td>0.292249</td>\n",
       "      <td>0</td>\n",
       "    </tr>\n",
       "    <tr>\n",
       "      <th>2015-01-07</th>\n",
       "      <td>-1.341501</td>\n",
       "      <td>0</td>\n",
       "    </tr>\n",
       "    <tr>\n",
       "      <th>2015-01-08</th>\n",
       "      <td>-0.668903</td>\n",
       "      <td>0</td>\n",
       "    </tr>\n",
       "    <tr>\n",
       "      <th>...</th>\n",
       "      <td>...</td>\n",
       "      <td>...</td>\n",
       "    </tr>\n",
       "    <tr>\n",
       "      <th>2020-06-22</th>\n",
       "      <td>-1.465151</td>\n",
       "      <td>0</td>\n",
       "    </tr>\n",
       "    <tr>\n",
       "      <th>2020-06-23</th>\n",
       "      <td>1.610168</td>\n",
       "      <td>0</td>\n",
       "    </tr>\n",
       "    <tr>\n",
       "      <th>2020-06-24</th>\n",
       "      <td>0.077145</td>\n",
       "      <td>0</td>\n",
       "    </tr>\n",
       "    <tr>\n",
       "      <th>2020-06-25</th>\n",
       "      <td>-0.935900</td>\n",
       "      <td>0</td>\n",
       "    </tr>\n",
       "    <tr>\n",
       "      <th>2020-06-26</th>\n",
       "      <td>0.599945</td>\n",
       "      <td>0</td>\n",
       "    </tr>\n",
       "  </tbody>\n",
       "</table>\n",
       "<p>1344 rows × 2 columns</p>\n",
       "</div>"
      ],
      "text/plain": [
       "            percentchg  shock\n",
       "date                         \n",
       "2015-01-02    0.163708      0\n",
       "2015-01-05    3.167617      1\n",
       "2015-01-06    0.292249      0\n",
       "2015-01-07   -1.341501      0\n",
       "2015-01-08   -0.668903      0\n",
       "...                ...    ...\n",
       "2020-06-22   -1.465151      0\n",
       "2020-06-23    1.610168      0\n",
       "2020-06-24    0.077145      0\n",
       "2020-06-25   -0.935900      0\n",
       "2020-06-26    0.599945      0\n",
       "\n",
       "[1344 rows x 2 columns]"
      ]
     },
     "execution_count": 36,
     "metadata": {},
     "output_type": "execute_result"
    }
   ],
   "source": [
    "def reverseboolean_shock(percent, df, col):\n",
    "  data = df.filter(['date', col], axis=1) #df.copy()\n",
    "  data.set_index('date', inplace=True)\n",
    "  data = data.reindex(index=data.index[::-1])\n",
    "  data['percentchg'] = (data[col].pct_change()) * 100\n",
    "  data['shock'] = data['percentchg'].apply(lambda x: 1 if x > percent else 0)\n",
    "  data.drop(col, axis = 1, inplace = True)\n",
    "  data = data.reindex(index=data.index[::-1])\n",
    "  return data.dropna()\n",
    "reverseboolean_shock(2, bse_data, 'close')"
   ]
  },
  {
   "cell_type": "markdown",
   "id": "ec9e2a87",
   "metadata": {},
   "source": [
    "# Textual Analysis of news from Times of India News Headlines\n",
    "#import library"
   ]
  },
  {
   "cell_type": "code",
   "execution_count": 69,
   "id": "01073357",
   "metadata": {},
   "outputs": [],
   "source": [
    "#reading the uploaded csv file and assigning to news variable\n",
    "stock_price  = pd.read_csv('CSVForDate(1).csv')"
   ]
  },
  {
   "cell_type": "code",
   "execution_count": 70,
   "id": "551ffb5b",
   "metadata": {},
   "outputs": [
    {
     "data": {
      "text/html": [
       "<div>\n",
       "<style scoped>\n",
       "    .dataframe tbody tr th:only-of-type {\n",
       "        vertical-align: middle;\n",
       "    }\n",
       "\n",
       "    .dataframe tbody tr th {\n",
       "        vertical-align: top;\n",
       "    }\n",
       "\n",
       "    .dataframe thead th {\n",
       "        text-align: right;\n",
       "    }\n",
       "</style>\n",
       "<table border=\"1\" class=\"dataframe\">\n",
       "  <thead>\n",
       "    <tr style=\"text-align: right;\">\n",
       "      <th></th>\n",
       "      <th>Date</th>\n",
       "      <th>Open</th>\n",
       "      <th>High</th>\n",
       "      <th>Low</th>\n",
       "      <th>Close</th>\n",
       "    </tr>\n",
       "  </thead>\n",
       "  <tbody>\n",
       "    <tr>\n",
       "      <th>1-January-2015</th>\n",
       "      <td>27485.77</td>\n",
       "      <td>27545.61</td>\n",
       "      <td>27395.34</td>\n",
       "      <td>27507.54</td>\n",
       "      <td>NaN</td>\n",
       "    </tr>\n",
       "    <tr>\n",
       "      <th>2-January-2015</th>\n",
       "      <td>27521.28</td>\n",
       "      <td>27937.47</td>\n",
       "      <td>27519.26</td>\n",
       "      <td>27887.90</td>\n",
       "      <td>NaN</td>\n",
       "    </tr>\n",
       "    <tr>\n",
       "      <th>5-January-2015</th>\n",
       "      <td>27978.43</td>\n",
       "      <td>28064.49</td>\n",
       "      <td>27786.85</td>\n",
       "      <td>27842.32</td>\n",
       "      <td>NaN</td>\n",
       "    </tr>\n",
       "    <tr>\n",
       "      <th>6-January-2015</th>\n",
       "      <td>27694.23</td>\n",
       "      <td>27698.93</td>\n",
       "      <td>26937.06</td>\n",
       "      <td>26987.46</td>\n",
       "      <td>NaN</td>\n",
       "    </tr>\n",
       "    <tr>\n",
       "      <th>7-January-2015</th>\n",
       "      <td>26983.43</td>\n",
       "      <td>27051.60</td>\n",
       "      <td>26776.12</td>\n",
       "      <td>26908.82</td>\n",
       "      <td>NaN</td>\n",
       "    </tr>\n",
       "    <tr>\n",
       "      <th>...</th>\n",
       "      <td>...</td>\n",
       "      <td>...</td>\n",
       "      <td>...</td>\n",
       "      <td>...</td>\n",
       "      <td>...</td>\n",
       "    </tr>\n",
       "    <tr>\n",
       "      <th>25-August-2020</th>\n",
       "      <td>38948.46</td>\n",
       "      <td>39008.89</td>\n",
       "      <td>38679.67</td>\n",
       "      <td>38843.88</td>\n",
       "      <td>NaN</td>\n",
       "    </tr>\n",
       "    <tr>\n",
       "      <th>26-August-2020</th>\n",
       "      <td>38930.18</td>\n",
       "      <td>39111.55</td>\n",
       "      <td>38765.09</td>\n",
       "      <td>39073.92</td>\n",
       "      <td>NaN</td>\n",
       "    </tr>\n",
       "    <tr>\n",
       "      <th>27-August-2020</th>\n",
       "      <td>39293.53</td>\n",
       "      <td>39326.98</td>\n",
       "      <td>39046.94</td>\n",
       "      <td>39113.47</td>\n",
       "      <td>NaN</td>\n",
       "    </tr>\n",
       "    <tr>\n",
       "      <th>28-August-2020</th>\n",
       "      <td>39264.48</td>\n",
       "      <td>39579.58</td>\n",
       "      <td>39235.03</td>\n",
       "      <td>39467.31</td>\n",
       "      <td>NaN</td>\n",
       "    </tr>\n",
       "    <tr>\n",
       "      <th>31-August-2020</th>\n",
       "      <td>39888.15</td>\n",
       "      <td>40010.17</td>\n",
       "      <td>38395.89</td>\n",
       "      <td>38628.29</td>\n",
       "      <td>NaN</td>\n",
       "    </tr>\n",
       "  </tbody>\n",
       "</table>\n",
       "<p>1401 rows × 5 columns</p>\n",
       "</div>"
      ],
      "text/plain": [
       "                    Date      Open      High       Low  Close\n",
       "1-January-2015  27485.77  27545.61  27395.34  27507.54    NaN\n",
       "2-January-2015  27521.28  27937.47  27519.26  27887.90    NaN\n",
       "5-January-2015  27978.43  28064.49  27786.85  27842.32    NaN\n",
       "6-January-2015  27694.23  27698.93  26937.06  26987.46    NaN\n",
       "7-January-2015  26983.43  27051.60  26776.12  26908.82    NaN\n",
       "...                  ...       ...       ...       ...    ...\n",
       "25-August-2020  38948.46  39008.89  38679.67  38843.88    NaN\n",
       "26-August-2020  38930.18  39111.55  38765.09  39073.92    NaN\n",
       "27-August-2020  39293.53  39326.98  39046.94  39113.47    NaN\n",
       "28-August-2020  39264.48  39579.58  39235.03  39467.31    NaN\n",
       "31-August-2020  39888.15  40010.17  38395.89  38628.29    NaN\n",
       "\n",
       "[1401 rows x 5 columns]"
      ]
     },
     "execution_count": 70,
     "metadata": {},
     "output_type": "execute_result"
    }
   ],
   "source": [
    "stock_price"
   ]
  },
  {
   "cell_type": "code",
   "execution_count": 46,
   "id": "8b700929",
   "metadata": {},
   "outputs": [
    {
     "data": {
      "text/html": [
       "<div>\n",
       "<style scoped>\n",
       "    .dataframe tbody tr th:only-of-type {\n",
       "        vertical-align: middle;\n",
       "    }\n",
       "\n",
       "    .dataframe tbody tr th {\n",
       "        vertical-align: top;\n",
       "    }\n",
       "\n",
       "    .dataframe thead th {\n",
       "        text-align: right;\n",
       "    }\n",
       "</style>\n",
       "<table border=\"1\" class=\"dataframe\">\n",
       "  <thead>\n",
       "    <tr style=\"text-align: right;\">\n",
       "      <th></th>\n",
       "      <th>Date</th>\n",
       "      <th>Open</th>\n",
       "      <th>High</th>\n",
       "      <th>Low</th>\n",
       "      <th>Close</th>\n",
       "    </tr>\n",
       "  </thead>\n",
       "  <tbody>\n",
       "    <tr>\n",
       "      <th>1-January-2015</th>\n",
       "      <td>27485.77</td>\n",
       "      <td>27545.61</td>\n",
       "      <td>27395.34</td>\n",
       "      <td>27507.54</td>\n",
       "      <td>NaN</td>\n",
       "    </tr>\n",
       "    <tr>\n",
       "      <th>2-January-2015</th>\n",
       "      <td>27521.28</td>\n",
       "      <td>27937.47</td>\n",
       "      <td>27519.26</td>\n",
       "      <td>27887.90</td>\n",
       "      <td>NaN</td>\n",
       "    </tr>\n",
       "    <tr>\n",
       "      <th>5-January-2015</th>\n",
       "      <td>27978.43</td>\n",
       "      <td>28064.49</td>\n",
       "      <td>27786.85</td>\n",
       "      <td>27842.32</td>\n",
       "      <td>NaN</td>\n",
       "    </tr>\n",
       "    <tr>\n",
       "      <th>6-January-2015</th>\n",
       "      <td>27694.23</td>\n",
       "      <td>27698.93</td>\n",
       "      <td>26937.06</td>\n",
       "      <td>26987.46</td>\n",
       "      <td>NaN</td>\n",
       "    </tr>\n",
       "    <tr>\n",
       "      <th>7-January-2015</th>\n",
       "      <td>26983.43</td>\n",
       "      <td>27051.60</td>\n",
       "      <td>26776.12</td>\n",
       "      <td>26908.82</td>\n",
       "      <td>NaN</td>\n",
       "    </tr>\n",
       "  </tbody>\n",
       "</table>\n",
       "</div>"
      ],
      "text/plain": [
       "                    Date      Open      High       Low  Close\n",
       "1-January-2015  27485.77  27545.61  27395.34  27507.54    NaN\n",
       "2-January-2015  27521.28  27937.47  27519.26  27887.90    NaN\n",
       "5-January-2015  27978.43  28064.49  27786.85  27842.32    NaN\n",
       "6-January-2015  27694.23  27698.93  26937.06  26987.46    NaN\n",
       "7-January-2015  26983.43  27051.60  26776.12  26908.82    NaN"
      ]
     },
     "execution_count": 46,
     "metadata": {},
     "output_type": "execute_result"
    }
   ],
   "source": [
    "stock_price.head()"
   ]
  },
  {
   "cell_type": "code",
   "execution_count": 47,
   "id": "19017d45",
   "metadata": {},
   "outputs": [
    {
     "data": {
      "text/plain": [
       "array([27485.77, 27521.28, 27978.43, ..., 39293.53, 39264.48, 39888.15])"
      ]
     },
     "execution_count": 47,
     "metadata": {},
     "output_type": "execute_result"
    }
   ],
   "source": [
    "#finding unique values in headline_category\n",
    "stock_price['Date'].unique()"
   ]
  },
  {
   "cell_type": "code",
   "execution_count": 48,
   "id": "bdef620e",
   "metadata": {},
   "outputs": [
    {
     "data": {
      "text/plain": [
       "Date        0\n",
       "Open        0\n",
       "High        0\n",
       "Low         0\n",
       "Close    1401\n",
       "dtype: int64"
      ]
     },
     "execution_count": 48,
     "metadata": {},
     "output_type": "execute_result"
    }
   ],
   "source": [
    "#Checking for null values and dropping the respective rows(if any) :\n",
    "stock_price.isna().sum()"
   ]
  },
  {
   "cell_type": "code",
   "execution_count": 49,
   "id": "d9f48a9c",
   "metadata": {},
   "outputs": [],
   "source": [
    "stock_price.dropna(axis=0,inplace=True)"
   ]
  },
  {
   "cell_type": "code",
   "execution_count": null,
   "id": "cfb5b664",
   "metadata": {},
   "outputs": [],
   "source": []
  },
  {
   "cell_type": "code",
   "execution_count": 60,
   "id": "1b982d47",
   "metadata": {},
   "outputs": [
    {
     "data": {
      "text/html": [
       "<div>\n",
       "<style scoped>\n",
       "    .dataframe tbody tr th:only-of-type {\n",
       "        vertical-align: middle;\n",
       "    }\n",
       "\n",
       "    .dataframe tbody tr th {\n",
       "        vertical-align: top;\n",
       "    }\n",
       "\n",
       "    .dataframe thead th {\n",
       "        text-align: right;\n",
       "    }\n",
       "</style>\n",
       "<table border=\"1\" class=\"dataframe\">\n",
       "  <thead>\n",
       "    <tr style=\"text-align: right;\">\n",
       "      <th></th>\n",
       "      <th>Open</th>\n",
       "      <th>High</th>\n",
       "      <th>Low</th>\n",
       "      <th>Close</th>\n",
       "    </tr>\n",
       "    <tr>\n",
       "      <th>Date</th>\n",
       "      <th></th>\n",
       "      <th></th>\n",
       "      <th></th>\n",
       "      <th></th>\n",
       "    </tr>\n",
       "  </thead>\n",
       "  <tbody>\n",
       "  </tbody>\n",
       "</table>\n",
       "</div>"
      ],
      "text/plain": [
       "Empty DataFrame\n",
       "Columns: [Open, High, Low, Close]\n",
       "Index: []"
      ]
     },
     "execution_count": 60,
     "metadata": {},
     "output_type": "execute_result"
    }
   ],
   "source": [
    "stock_price.rolling(7).mean().head(20)"
   ]
  },
  {
   "cell_type": "code",
   "execution_count": 63,
   "id": "8c1d071a",
   "metadata": {},
   "outputs": [
    {
     "name": "stdout",
     "output_type": "stream",
     "text": [
      "Length of Training Set is  0\n",
      "Length of Testing Set is  0\n"
     ]
    }
   ],
   "source": [
    "use_data_size = len(stock_price) - 1\n",
    "train_data_size = int(0.8 * use_data_size)\n",
    "total_data_size = len(stock_price)\n",
    "start_point = total_data_size - use_data_size\n",
    "print(\"Length of Training Set is \",train_data_size)\n",
    "print('Length of Testing Set is ', total_data_size - train_data_size)"
   ]
  },
  {
   "cell_type": "code",
   "execution_count": 71,
   "id": "2ebca394",
   "metadata": {},
   "outputs": [
    {
     "data": {
      "text/html": [
       "<div>\n",
       "<style scoped>\n",
       "    .dataframe tbody tr th:only-of-type {\n",
       "        vertical-align: middle;\n",
       "    }\n",
       "\n",
       "    .dataframe tbody tr th {\n",
       "        vertical-align: top;\n",
       "    }\n",
       "\n",
       "    .dataframe thead th {\n",
       "        text-align: right;\n",
       "    }\n",
       "</style>\n",
       "<table border=\"1\" class=\"dataframe\">\n",
       "  <thead>\n",
       "    <tr style=\"text-align: right;\">\n",
       "      <th></th>\n",
       "      <th>Date</th>\n",
       "      <th>Open</th>\n",
       "      <th>High</th>\n",
       "      <th>Low</th>\n",
       "      <th>Close</th>\n",
       "    </tr>\n",
       "  </thead>\n",
       "  <tbody>\n",
       "    <tr>\n",
       "      <th>1-January-2015</th>\n",
       "      <td>27485.77</td>\n",
       "      <td>27545.61</td>\n",
       "      <td>27395.34</td>\n",
       "      <td>27507.54</td>\n",
       "      <td>NaN</td>\n",
       "    </tr>\n",
       "    <tr>\n",
       "      <th>2-January-2015</th>\n",
       "      <td>27521.28</td>\n",
       "      <td>27937.47</td>\n",
       "      <td>27519.26</td>\n",
       "      <td>27887.90</td>\n",
       "      <td>NaN</td>\n",
       "    </tr>\n",
       "    <tr>\n",
       "      <th>5-January-2015</th>\n",
       "      <td>27978.43</td>\n",
       "      <td>28064.49</td>\n",
       "      <td>27786.85</td>\n",
       "      <td>27842.32</td>\n",
       "      <td>NaN</td>\n",
       "    </tr>\n",
       "    <tr>\n",
       "      <th>6-January-2015</th>\n",
       "      <td>27694.23</td>\n",
       "      <td>27698.93</td>\n",
       "      <td>26937.06</td>\n",
       "      <td>26987.46</td>\n",
       "      <td>NaN</td>\n",
       "    </tr>\n",
       "    <tr>\n",
       "      <th>7-January-2015</th>\n",
       "      <td>26983.43</td>\n",
       "      <td>27051.60</td>\n",
       "      <td>26776.12</td>\n",
       "      <td>26908.82</td>\n",
       "      <td>NaN</td>\n",
       "    </tr>\n",
       "  </tbody>\n",
       "</table>\n",
       "</div>"
      ],
      "text/plain": [
       "                    Date      Open      High       Low  Close\n",
       "1-January-2015  27485.77  27545.61  27395.34  27507.54    NaN\n",
       "2-January-2015  27521.28  27937.47  27519.26  27887.90    NaN\n",
       "5-January-2015  27978.43  28064.49  27786.85  27842.32    NaN\n",
       "6-January-2015  27694.23  27698.93  26937.06  26987.46    NaN\n",
       "7-January-2015  26983.43  27051.60  26776.12  26908.82    NaN"
      ]
     },
     "execution_count": 71,
     "metadata": {},
     "output_type": "execute_result"
    }
   ],
   "source": [
    "stock_price.head()"
   ]
  },
  {
   "cell_type": "code",
   "execution_count": 72,
   "id": "c7633c66",
   "metadata": {},
   "outputs": [
    {
     "data": {
      "text/plain": [
       "Date        0\n",
       "Open        0\n",
       "High        0\n",
       "Low         0\n",
       "Close    1401\n",
       "dtype: int64"
      ]
     },
     "execution_count": 72,
     "metadata": {},
     "output_type": "execute_result"
    }
   ],
   "source": [
    "stock_price.isnull().sum()"
   ]
  },
  {
   "cell_type": "code",
   "execution_count": 73,
   "id": "223debc0",
   "metadata": {},
   "outputs": [],
   "source": [
    "stock_price.dropna(axis=0,inplace=True)\n"
   ]
  },
  {
   "cell_type": "code",
   "execution_count": 75,
   "id": "6c4318de",
   "metadata": {},
   "outputs": [
    {
     "data": {
      "text/plain": [
       "(0,)"
      ]
     },
     "execution_count": 75,
     "metadata": {},
     "output_type": "execute_result"
    }
   ],
   "source": [
    "y = stock_price['Date']\n",
    "y.shape"
   ]
  },
  {
   "cell_type": "code",
   "execution_count": 78,
   "id": "20fa1d35",
   "metadata": {},
   "outputs": [
    {
     "data": {
      "image/png": "[encoded data removed]",
      "text/plain": [
       "<Figure size 432x288 with 1 Axes>"
      ]
     },
     "metadata": {
      "needs_background": "light"
     },
     "output_type": "display_data"
    }
   ],
   "source": [
    "plt.plot(stock_price['Date'])\n",
    "plt.plot(stock_price['Open'])\n",
    "plt.title('model loss')\n",
    "plt.ylabel('loss')\n",
    "plt.xlabel('epoch')\n",
    "plt.legend(['train', 'test'], loc='upper left')\n",
    "plt.show()\n"
   ]
  },
  {
   "cell_type": "code",
   "execution_count": null,
   "id": "2bf4496b",
   "metadata": {},
   "outputs": [],
   "source": []
  },
  {
   "cell_type": "markdown",
   "id": "b0fa16c6",
   "metadata": {},
   "source": [
    "With this, we have come to the end of creating a hybrid model for Stock Market Prediction using Numerical and Textual Analysis. The model and weighst are saved as model.json and model.h5 respectie"
   ]
  },
  {
   "cell_type": "markdown",
   "id": "a1cddfd4",
   "metadata": {},
   "source": [
    "# THANK YOU"
   ]
  }
 ],
 "metadata": {
  "kernelspec": {
   "display_name": "Python 3 (ipykernel)",
   "language": "python",
   "name": "python3"
  },
  "language_info": {
   "codemirror_mode": {
    "name": "ipython",
    "version": 3
   },
   "file_extension": ".py",
   "mimetype": "text/x-python",
   "name": "python",
   "nbconvert_exporter": "python",
   "pygments_lexer": "ipython3",
   "version": "3.9.7"
  }
 },
 "nbformat": 4,
 "nbformat_minor": 5
}
